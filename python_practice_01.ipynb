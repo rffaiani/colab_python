{
  "nbformat": 4,
  "nbformat_minor": 0,
  "metadata": {
    "colab": {
      "name": "python_practice_01.ipynb",
      "provenance": [],
      "collapsed_sections": [],
      "authorship_tag": "ABX9TyOXf1CGyt3FuI7KcUba45Tw"
    },
    "kernelspec": {
      "name": "python3",
      "display_name": "Python 3"
    }
  },
  "cells": [
    {
      "cell_type": "markdown",
      "metadata": {
        "id": "8eVw5BLJiUah"
      },
      "source": [
        "Este é o primeiro notebook que estou criando no Colab como treinamento para me desenvolver na linguagem Python."
      ]
    },
    {
      "cell_type": "code",
      "metadata": {
        "colab": {
          "base_uri": "https://localhost:8080/"
        },
        "id": "HOBTqShZhZ-y",
        "outputId": "ddd78d26-64e3-41b4-d234-e3c2f776a478"
      },
      "source": [
        "#PRÁTICA 01: LINGUAGEM PYHTON\r\n",
        "#OBS.: O hashtag (#) é usado para comentários\r\n",
        "#O código abaixo imprime a informação que estamos passando como parâmetro.\r\n",
        "#Função PRINT\r\n",
        "\r\n",
        "print(\"Olá, mundo!\")"
      ],
      "execution_count": 2,
      "outputs": [
        {
          "output_type": "stream",
          "text": [
            "Olá, mundo!\n"
          ],
          "name": "stdout"
        }
      ]
    },
    {
      "cell_type": "code",
      "metadata": {
        "colab": {
          "base_uri": "https://localhost:8080/"
        },
        "id": "KSkSQDPNiopO",
        "outputId": "a041cd78-1451-4801-e8be-cb62ac6555cd"
      },
      "source": [
        "#Variável recebe o valor de nome e imprime.\r\n",
        "\r\n",
        "nome = input(\"Qual o seu nome? \")\r\n",
        "print(f\"Seja bem-vindo, {nome}!\")"
      ],
      "execution_count": 5,
      "outputs": [
        {
          "output_type": "stream",
          "text": [
            "Qual o seu nome? Rafael\n",
            "Seja bem-vindo, Rafael!\n"
          ],
          "name": "stdout"
        }
      ]
    },
    {
      "cell_type": "code",
      "metadata": {
        "colab": {
          "base_uri": "https://localhost:8080/"
        },
        "id": "K04uwjy4kQHY",
        "outputId": "9b46df41-451c-497d-9172-07bf6c175a4a"
      },
      "source": [
        "#Atribuir valor em uma variável e imprimir na tela.\r\n",
        "nome = \"Artur\"\r\n",
        "idade, email, sexo = 22, \"artur@email.com.br\", \"M\"\r\n",
        "print(nome, idade, sexo)\r\n",
        "print(email)"
      ],
      "execution_count": 6,
      "outputs": [
        {
          "output_type": "stream",
          "text": [
            "Artur 22 M\n",
            "artur@email.com.br\n"
          ],
          "name": "stdout"
        }
      ]
    },
    {
      "cell_type": "code",
      "metadata": {
        "colab": {
          "base_uri": "https://localhost:8080/"
        },
        "id": "jeNM7WnNpdqy",
        "outputId": "a828fdf6-6913-45d6-d083-212bf6bdc994"
      },
      "source": [
        "#INPUT\r\n",
        "#PRINT (f\"__{variavel}__\")\r\n",
        "#Entrar com nome e idade e imprimir na tela.\r\n",
        "\r\n",
        "nome = input(\"Qual o seu nome? \")\r\n",
        "idade = input(\"Por favor, qual a sua idade? \")\r\n",
        "print(f\"Olá, {nome}! Você tem {idade} anos.\")\r\n"
      ],
      "execution_count": 11,
      "outputs": [
        {
          "output_type": "stream",
          "text": [
            "Qual o seu nome? Gael\n",
            "Por favor, qual a sua idade? 25\n",
            "Olá, Gael! Você tem 25 anos.\n"
          ],
          "name": "stdout"
        }
      ]
    },
    {
      "cell_type": "code",
      "metadata": {
        "colab": {
          "base_uri": "https://localhost:8080/"
        },
        "id": "2oYVdJ4ytUKl",
        "outputId": "037ec543-cc89-43c7-f934-39693aa6e138"
      },
      "source": [
        "#guarda a variável da última vez que inseriu\r\n",
        "print(nome)\r\n"
      ],
      "execution_count": 12,
      "outputs": [
        {
          "output_type": "stream",
          "text": [
            "Gael\n"
          ],
          "name": "stdout"
        }
      ]
    },
    {
      "cell_type": "code",
      "metadata": {
        "colab": {
          "base_uri": "https://localhost:8080/"
        },
        "id": "o0ScfVx7tfw2",
        "outputId": "118046f9-37e7-4f53-fb9d-088af6618b9e"
      },
      "source": [
        "#TYPE\r\n",
        "#INT, FLOAT, STRING, BOOLEAN (True or False)\r\n",
        "\r\n",
        "sobrenome = \"Silva\"\r\n",
        "sua_idade = 28\r\n",
        "sua_nota = 9.5\r\n",
        "type(sobrenome)\r\n"
      ],
      "execution_count": 15,
      "outputs": [
        {
          "output_type": "execute_result",
          "data": {
            "text/plain": [
              "str"
            ]
          },
          "metadata": {
            "tags": []
          },
          "execution_count": 15
        }
      ]
    },
    {
      "cell_type": "code",
      "metadata": {
        "colab": {
          "base_uri": "https://localhost:8080/"
        },
        "id": "-5dmm8-1u4ki",
        "outputId": "99169d13-ddfb-4176-9480-bf098857812c"
      },
      "source": [
        "type(sua_idade)\r\n"
      ],
      "execution_count": 16,
      "outputs": [
        {
          "output_type": "execute_result",
          "data": {
            "text/plain": [
              "int"
            ]
          },
          "metadata": {
            "tags": []
          },
          "execution_count": 16
        }
      ]
    },
    {
      "cell_type": "code",
      "metadata": {
        "colab": {
          "base_uri": "https://localhost:8080/"
        },
        "id": "bd_98apOu_Ie",
        "outputId": "f276ee62-efd0-4e5c-f4a9-10e11b0223d5"
      },
      "source": [
        "type(sua_nota)"
      ],
      "execution_count": 17,
      "outputs": [
        {
          "output_type": "execute_result",
          "data": {
            "text/plain": [
              "float"
            ]
          },
          "metadata": {
            "tags": []
          },
          "execution_count": 17
        }
      ]
    },
    {
      "cell_type": "code",
      "metadata": {
        "colab": {
          "base_uri": "https://localhost:8080/"
        },
        "id": "23qSBgRm0aib",
        "outputId": "c584fcd4-c1a9-4e83-acc7-fe3b07130d14"
      },
      "source": [
        "#PASSANDO DE FLOAT PARA INT //CONVERSÃO //CAST\r\n",
        "var1 = -12.50\r\n",
        "type(var1)"
      ],
      "execution_count": 18,
      "outputs": [
        {
          "output_type": "execute_result",
          "data": {
            "text/plain": [
              "float"
            ]
          },
          "metadata": {
            "tags": []
          },
          "execution_count": 18
        }
      ]
    },
    {
      "cell_type": "code",
      "metadata": {
        "colab": {
          "base_uri": "https://localhost:8080/"
        },
        "id": "SM7ltHC00kHH",
        "outputId": "d161acb5-5018-426e-d5da-6112814108cf"
      },
      "source": [
        "transform1 = int(var1)\r\n",
        "type(transform1)"
      ],
      "execution_count": 20,
      "outputs": [
        {
          "output_type": "execute_result",
          "data": {
            "text/plain": [
              "int"
            ]
          },
          "metadata": {
            "tags": []
          },
          "execution_count": 20
        }
      ]
    },
    {
      "cell_type": "code",
      "metadata": {
        "colab": {
          "base_uri": "https://localhost:8080/"
        },
        "id": "XxIzXTkL9z1y",
        "outputId": "41af250a-1712-44c8-89ed-dd6b89b73eb5"
      },
      "source": [
        "TIPO_BOOLEANO = True\r\n",
        "type(TIPO_BOOLEANO)"
      ],
      "execution_count": 29,
      "outputs": [
        {
          "output_type": "execute_result",
          "data": {
            "text/plain": [
              "bool"
            ]
          },
          "metadata": {
            "tags": []
          },
          "execution_count": 29
        }
      ]
    },
    {
      "cell_type": "markdown",
      "metadata": {
        "id": "AdP4FclY3mQg"
      },
      "source": [
        "O Python considera todos os dados como string. Veja:"
      ]
    },
    {
      "cell_type": "code",
      "metadata": {
        "colab": {
          "base_uri": "https://localhost:8080/"
        },
        "id": "3LCK0QLn3uG0",
        "outputId": "e24c2fbb-5e2b-4ceb-bafb-b0a2b57d6d91"
      },
      "source": [
        "idade1 = input(\"Digite a sua idade: \")\r\n",
        "print(type(idade1))"
      ],
      "execution_count": 21,
      "outputs": [
        {
          "output_type": "stream",
          "text": [
            "Digite a sua idade: 39\n",
            "<class 'str'>\n"
          ],
          "name": "stdout"
        }
      ]
    },
    {
      "cell_type": "code",
      "metadata": {
        "colab": {
          "base_uri": "https://localhost:8080/"
        },
        "id": "2CHV9x254FB3",
        "outputId": "860ecac4-df84-4426-f815-1acde5664ccd"
      },
      "source": [
        "#Para armazenar a informação com o tipo correto, fazer:\r\n",
        "idade2 = int(input(\"Digite a sua idade: \"))\r\n",
        "print(type(idade2))"
      ],
      "execution_count": 22,
      "outputs": [
        {
          "output_type": "stream",
          "text": [
            "Digite a sua idade: 37\n",
            "<class 'int'>\n"
          ],
          "name": "stdout"
        }
      ]
    },
    {
      "cell_type": "code",
      "metadata": {
        "colab": {
          "base_uri": "https://localhost:8080/"
        },
        "id": "-YT_xdYa4ewe",
        "outputId": "4f38a892-dceb-43dd-d772-4b3e89867cb0"
      },
      "source": [
        "#Fazer um programa que peça dois números e devolva como resultado a soma:\r\n",
        "n1 = input(\"Entre com o primeiro número a ser somado: \")\r\n",
        "n2 = input(\"Entre com o primeiro número a ser somado: \")\r\n",
        "print(f\"A soma dos números é {n1+n2}.\")"
      ],
      "execution_count": 23,
      "outputs": [
        {
          "output_type": "stream",
          "text": [
            "Entre com o primeiro número a ser somado: 5\n",
            "Entre com o primeiro número a ser somado: 2\n",
            "A soma dos números é 52.\n"
          ],
          "name": "stdout"
        }
      ]
    },
    {
      "cell_type": "code",
      "metadata": {
        "colab": {
          "base_uri": "https://localhost:8080/"
        },
        "id": "5sABk9P849uA",
        "outputId": "1002303c-4c15-4185-c8a2-d00e9fb497ef"
      },
      "source": [
        "n1 = input(\"Entre com o primeiro número a ser somado: \")\r\n",
        "n2 = input(\"Entre com o primeiro número a ser somado: \")\r\n",
        "soma = n1 + n2\r\n",
        "print(f\"A soma dos números é {soma}.\")"
      ],
      "execution_count": 28,
      "outputs": [
        {
          "output_type": "stream",
          "text": [
            "Entre com o primeiro número a ser somado: 9\n",
            "Entre com o primeiro número a ser somado: 2\n",
            "A soma dos números é 92.\n"
          ],
          "name": "stdout"
        }
      ]
    },
    {
      "cell_type": "markdown",
      "metadata": {
        "id": "TIFoUh9X8EBU"
      },
      "source": [
        "Perceba o problema acima. Como todos os dados por default no input são strings, o Python não está somando, mas sim, concatenando os dois valores. Ou seja, somando 1 + 2, está juntando os dois números, resultando em 12.\r\n",
        "\r\n",
        "Para resolver, é necessário indicar ao Python o tipo de dados que queremos como retorno. Veja:"
      ]
    },
    {
      "cell_type": "code",
      "metadata": {
        "colab": {
          "base_uri": "https://localhost:8080/"
        },
        "id": "0KZGGnCB8wvq",
        "outputId": "939569d8-d8ba-4c0a-91cf-75df4cf40df1"
      },
      "source": [
        "n1 = int(input(\"Entre com o primeiro número a ser somado: \"))\r\n",
        "n2 = int(input(\"Entre com o primeiro número a ser somado: \"))\r\n",
        "soma = n1 + n2\r\n",
        "print(f\"A soma dos números é {soma}.\")"
      ],
      "execution_count": 30,
      "outputs": [
        {
          "output_type": "stream",
          "text": [
            "Entre com o primeiro número a ser somado: 5\n",
            "Entre com o primeiro número a ser somado: 12\n",
            "A soma dos números é 17.\n"
          ],
          "name": "stdout"
        }
      ]
    },
    {
      "cell_type": "markdown",
      "metadata": {
        "id": "SbT8XzIi-QTI"
      },
      "source": [
        "Entrando agora um pouco nas operações aritméticas:  \r\n",
        "Adição => +  \r\n",
        "Subtração => -  \r\n",
        "Multiplicação => *  \r\n",
        "Divisão => /  \r\n",
        "Resto da Divisão => %  \r\n",
        "Exponenciação => **"
      ]
    },
    {
      "cell_type": "code",
      "metadata": {
        "colab": {
          "base_uri": "https://localhost:8080/"
        },
        "id": "HiEqTM2W-i7Z",
        "outputId": "59f98e58-5098-46ff-d14a-e999b5f61b3a"
      },
      "source": [
        "16+4"
      ],
      "execution_count": 31,
      "outputs": [
        {
          "output_type": "execute_result",
          "data": {
            "text/plain": [
              "20"
            ]
          },
          "metadata": {
            "tags": []
          },
          "execution_count": 31
        }
      ]
    },
    {
      "cell_type": "code",
      "metadata": {
        "colab": {
          "base_uri": "https://localhost:8080/"
        },
        "id": "DtQrGCP3-xL0",
        "outputId": "013ce733-e058-4836-cb43-0555c11ae896"
      },
      "source": [
        "25-2"
      ],
      "execution_count": 32,
      "outputs": [
        {
          "output_type": "execute_result",
          "data": {
            "text/plain": [
              "23"
            ]
          },
          "metadata": {
            "tags": []
          },
          "execution_count": 32
        }
      ]
    },
    {
      "cell_type": "code",
      "metadata": {
        "colab": {
          "base_uri": "https://localhost:8080/"
        },
        "id": "vYNaD2ls-07H",
        "outputId": "d707d2e7-dba1-458d-a6ff-9ad9118029b5"
      },
      "source": [
        "12*10"
      ],
      "execution_count": 33,
      "outputs": [
        {
          "output_type": "execute_result",
          "data": {
            "text/plain": [
              "120"
            ]
          },
          "metadata": {
            "tags": []
          },
          "execution_count": 33
        }
      ]
    },
    {
      "cell_type": "code",
      "metadata": {
        "colab": {
          "base_uri": "https://localhost:8080/"
        },
        "id": "W5HqUCuz_Nf1",
        "outputId": "086349c8-014d-47ba-c8c7-1e1df402dfbe"
      },
      "source": [
        "16/5\r\n"
      ],
      "execution_count": 34,
      "outputs": [
        {
          "output_type": "execute_result",
          "data": {
            "text/plain": [
              "3.2"
            ]
          },
          "metadata": {
            "tags": []
          },
          "execution_count": 34
        }
      ]
    },
    {
      "cell_type": "code",
      "metadata": {
        "colab": {
          "base_uri": "https://localhost:8080/"
        },
        "id": "DwFTta2m_Xzy",
        "outputId": "461feff4-0d23-4fb1-c65d-a625ae2c6d89"
      },
      "source": [
        "13%4"
      ],
      "execution_count": 35,
      "outputs": [
        {
          "output_type": "execute_result",
          "data": {
            "text/plain": [
              "1"
            ]
          },
          "metadata": {
            "tags": []
          },
          "execution_count": 35
        }
      ]
    },
    {
      "cell_type": "code",
      "metadata": {
        "colab": {
          "base_uri": "https://localhost:8080/"
        },
        "id": "SdkVTNbo_bt8",
        "outputId": "c34c3ab7-e2b5-4ca7-a08c-1749e4e6c786"
      },
      "source": [
        "2**4 \r\n",
        "#2 elevado a 4"
      ],
      "execution_count": 36,
      "outputs": [
        {
          "output_type": "execute_result",
          "data": {
            "text/plain": [
              "16"
            ]
          },
          "metadata": {
            "tags": []
          },
          "execution_count": 36
        }
      ]
    },
    {
      "cell_type": "code",
      "metadata": {
        "colab": {
          "base_uri": "https://localhost:8080/",
          "height": 35
        },
        "id": "yCjsBJGY_lO9",
        "outputId": "62dd9b33-874f-48a6-fe2c-49a5bb622cc0"
      },
      "source": [
        "\"18\" + \"Gilberto\" #concatenando"
      ],
      "execution_count": 38,
      "outputs": [
        {
          "output_type": "execute_result",
          "data": {
            "application/vnd.google.colaboratory.intrinsic+json": {
              "type": "string"
            },
            "text/plain": [
              "'18Gilberto'"
            ]
          },
          "metadata": {
            "tags": []
          },
          "execution_count": 38
        }
      ]
    },
    {
      "cell_type": "code",
      "metadata": {
        "colab": {
          "base_uri": "https://localhost:8080/",
          "height": 35
        },
        "id": "giT28FLb_ffH",
        "outputId": "8b6ae980-d44f-4d42-cf72-d73f97ea8eca"
      },
      "source": [
        "\"18\" + \"5\" #concatenando"
      ],
      "execution_count": 39,
      "outputs": [
        {
          "output_type": "execute_result",
          "data": {
            "application/vnd.google.colaboratory.intrinsic+json": {
              "type": "string"
            },
            "text/plain": [
              "'185'"
            ]
          },
          "metadata": {
            "tags": []
          },
          "execution_count": 39
        }
      ]
    },
    {
      "cell_type": "code",
      "metadata": {
        "colab": {
          "base_uri": "https://localhost:8080/"
        },
        "id": "jDjEORM-_7c7",
        "outputId": "07a566cc-de22-408a-87db-78ccbdfd73d6"
      },
      "source": [
        "número = 18\r\n",
        "print(número + 2)"
      ],
      "execution_count": 41,
      "outputs": [
        {
          "output_type": "stream",
          "text": [
            "20\n"
          ],
          "name": "stdout"
        }
      ]
    },
    {
      "cell_type": "code",
      "metadata": {
        "colab": {
          "base_uri": "https://localhost:8080/"
        },
        "id": "UMfoAXdjA7H8",
        "outputId": "8da5298e-5cbc-4ec6-b833-5cf52e0dc0d0"
      },
      "source": [
        "#FUNÇÃO ROUND\r\n",
        "#round() - arredondar\r\n",
        "\r\n",
        "teste = 5.3589\r\n",
        "teste = round(teste,2) #arredondando para duas casas depois da vírgula\r\n",
        "print(teste)"
      ],
      "execution_count": 45,
      "outputs": [
        {
          "output_type": "stream",
          "text": [
            "5.36\n"
          ],
          "name": "stdout"
        }
      ]
    },
    {
      "cell_type": "code",
      "metadata": {
        "colab": {
          "base_uri": "https://localhost:8080/"
        },
        "id": "K7rTe_2XBbPs",
        "outputId": "e2cc0c37-6835-487d-d795-d204db8132ee"
      },
      "source": [
        "#FUNÇÃO ABS\r\n",
        "#abs() - número absoluto (sempre positivo)\r\n",
        "\r\n",
        "teste_abs = -21.33\r\n",
        "teste_abs = abs(teste_abs)\r\n",
        "print(teste_abs)"
      ],
      "execution_count": 47,
      "outputs": [
        {
          "output_type": "stream",
          "text": [
            "21.33\n"
          ],
          "name": "stdout"
        }
      ]
    },
    {
      "cell_type": "code",
      "metadata": {
        "colab": {
          "base_uri": "https://localhost:8080/"
        },
        "id": "ufnm9DkkEoq7",
        "outputId": "65ea9616-3bcc-4b53-9ebd-fb565af838aa"
      },
      "source": [
        "#FUNÇÃO LEN\r\n",
        "#len() - length - comprimento - retorna tamanho de uma variável\r\n",
        "\r\n",
        "texto = \"Mensagem de texto teste\"\r\n",
        "print(type(texto))\r\n",
        "print(\"O tamanho de texto é: \", len(texto))\r\n",
        "#ou\r\n",
        "print(\"...\")\r\n",
        "print(f\"O tamanho do texto é: {len(texto)}\")\r\n"
      ],
      "execution_count": 52,
      "outputs": [
        {
          "output_type": "stream",
          "text": [
            "<class 'str'>\n",
            "O tamanho de texto é:  23\n",
            "...\n",
            "O tamanho do texto é: 23\n"
          ],
          "name": "stdout"
        }
      ]
    },
    {
      "cell_type": "markdown",
      "metadata": {
        "id": "3eDRcQPGFql3"
      },
      "source": [
        "Foi aprendido até agora:\r\n",
        "PRINT\r\n",
        "INPUT\r\n",
        "TYPE(INT, FLOAT, STR, BOOL)\r\n",
        "OPERAÇÕES ARITMÉTICAS (+, -, *, /, %, **)\r\n",
        "FUNÇÃO = ROUND()\r\n",
        "FUNÇÃO = ABS()\r\n",
        "FUNÇÃO = LEN()"
      ]
    }
  ]
}